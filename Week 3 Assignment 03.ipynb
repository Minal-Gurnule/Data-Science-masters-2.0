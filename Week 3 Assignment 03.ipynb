{
 "cells": [
  {
   "cell_type": "code",
   "execution_count": 1,
   "id": "3b234f85-37f0-4ced-95c3-c9f8f2ffb785",
   "metadata": {},
   "outputs": [
    {
     "name": "stdout",
     "output_type": "stream",
     "text": [
      "[1, 3, 5, 7, 9, 11, 13, 15, 17, 19, 21, 23, 25]\n"
     ]
    }
   ],
   "source": [
    "#Que 1 - def is the keyword used to create a function.\n",
    "def z (n):\n",
    "  return [x for x in range(n + 1) if x % 2 == 1]\n",
    "print( z (25))"
   ]
  },
  {
   "cell_type": "code",
   "execution_count": 2,
   "id": "1700076b-83ba-4ef6-bee4-3a7a07fe74c9",
   "metadata": {},
   "outputs": [],
   "source": [
    "# Que 2\n",
    "#Use *args and **kwargs as arguments of a function when we are unsure about the number of arguments to pass in functions."
   ]
  },
  {
   "cell_type": "code",
   "execution_count": 3,
   "id": "eeedea2e-5827-4c65-9126-0af36cf7543d",
   "metadata": {},
   "outputs": [
    {
     "data": {
      "text/plain": [
       "((12, 22), 23)"
      ]
     },
     "execution_count": 3,
     "metadata": {},
     "output_type": "execute_result"
    }
   ],
   "source": [
    "# arge\n",
    "def minu (*arge, a ) :\n",
    "    return arge, a\n",
    "minu (12,22, a = 23 )"
   ]
  },
  {
   "cell_type": "code",
   "execution_count": 4,
   "id": "cc661888-1d32-40a7-a28d-2ec996e0a849",
   "metadata": {},
   "outputs": [
    {
     "data": {
      "text/plain": [
       "<function __main__.minu(*arge, a)>"
      ]
     },
     "execution_count": 4,
     "metadata": {},
     "output_type": "execute_result"
    }
   ],
   "source": [
    "minu"
   ]
  },
  {
   "cell_type": "code",
   "execution_count": 5,
   "id": "424afd0f-29b1-47f3-a9b9-1373d7279683",
   "metadata": {},
   "outputs": [
    {
     "data": {
      "text/plain": [
       "dict"
      ]
     },
     "execution_count": 5,
     "metadata": {},
     "output_type": "execute_result"
    }
   ],
   "source": [
    "# **kwargs\n",
    "def minal (**kwargs):\n",
    "    return kwargs\n",
    "\n",
    "minal\n",
    "{ }\n",
    "type (minal ( ) )"
   ]
  },
  {
   "cell_type": "code",
   "execution_count": 6,
   "id": "f0b6dd0e-d2bb-42ac-9c0c-4af92c844159",
   "metadata": {},
   "outputs": [
    {
     "data": {
      "text/plain": [
       "{'e': [1, 2, 3], 'b': 'minu'}"
      ]
     },
     "execution_count": 6,
     "metadata": {},
     "output_type": "execute_result"
    }
   ],
   "source": [
    "minal ( e = [1,2,3], b = 'minu')"
   ]
  },
  {
   "cell_type": "code",
   "execution_count": 7,
   "id": "6ce1f7bb-14b9-49aa-a2d6-8bface079792",
   "metadata": {},
   "outputs": [
    {
     "data": {
      "text/plain": [
       "<function __main__.minal(**kwargs)>"
      ]
     },
     "execution_count": 7,
     "metadata": {},
     "output_type": "execute_result"
    }
   ],
   "source": [
    "minal"
   ]
  },
  {
   "cell_type": "code",
   "execution_count": 8,
   "id": "612a2701-4597-4de8-95f3-c08fe0a49274",
   "metadata": {},
   "outputs": [
    {
     "name": "stdout",
     "output_type": "stream",
     "text": [
      "List Iteration\n",
      "2\n",
      "4\n",
      "6\n",
      "8\n",
      "10\n"
     ]
    }
   ],
   "source": [
    "# Que 3\n",
    "# Iterator an object that can be used to loop through collections of data.\\\n",
    "# iter (  ) method used to initialise the iterator object and next ( ) the method used for iteration.\n",
    "print (\"List Iteration\")\n",
    "m = [2, 4, 6, 8, 10, 12, 14, 16, 18, 20]\n",
    "n = iter(m)\n",
    "\n",
    "print(next(n))\n",
    "print(next(n))\n",
    "print(next(n))\n",
    "print(next(n))\n",
    "print(next(n))"
   ]
  },
  {
   "cell_type": "code",
   "execution_count": 9,
   "id": "c921001d-12ba-4706-acf3-01b533e75ce8",
   "metadata": {},
   "outputs": [
    {
     "name": "stdout",
     "output_type": "stream",
     "text": [
      "5\n",
      "6\n",
      "11\n",
      "17\n",
      "28\n",
      "45\n",
      "73\n",
      "118\n",
      "191\n",
      "309\n"
     ]
    }
   ],
   "source": [
    "# Que 4\n",
    "# Generator function used to return multiple values from a function. Also used to reduce the memory.\n",
    "# Return to multiple values we can used yield\n",
    "def guru_fib ( n ):\n",
    "    x,y = 5,6\n",
    "    for i in range (n):\n",
    "        yield x\n",
    "        x,y = y, x+y\n",
    "for i in guru_fib(10):\n",
    "    print(i)"
   ]
  },
  {
   "cell_type": "code",
   "execution_count": 24,
   "id": "b11b4ba5-bbe7-4f16-ac78-1ce60f360a86",
   "metadata": {},
   "outputs": [
    {
     "name": "stdin",
     "output_type": "stream",
     "text": [
      "Enter the range:  20\n"
     ]
    },
    {
     "name": "stdout",
     "output_type": "stream",
     "text": [
      "2 3 5 7 11 13 17 19 "
     ]
    }
   ],
   "source": [
    "# Que 5\n",
    "def Prime_seq(num):\n",
    "    for i in range(2,num):\n",
    "        if prime(i) == True:\n",
    "            print(i,end = \" \")\n",
    "        else:\n",
    "            pass\n",
    "num = int(input(\"Enter the range: \"))\n",
    "prime = lambda num: all( num%x != 0 for x in range(2, int(num**.5)+1) )\n",
    "Prime_seq(num)"
   ]
  },
  {
   "cell_type": "code",
   "execution_count": 25,
   "id": "1e3f9a3e-e698-4372-a9a9-c17b4b51a2a8",
   "metadata": {},
   "outputs": [
    {
     "name": "stdin",
     "output_type": "stream",
     "text": [
      "Enter the Fibonacci Number Range:  10\n"
     ]
    },
    {
     "name": "stdout",
     "output_type": "stream",
     "text": [
      "0  1  1  2  3  5  8  13  21  34  "
     ]
    }
   ],
   "source": [
    "# Que 6\n",
    "num = int(input(\"Enter the Fibonacci Number Range: \"))\n",
    "\n",
    "n1 = 0\n",
    "n2 = 1\n",
    "Sum = 0\n",
    "i = 0\n",
    "\n",
    "while(i <  num):\n",
    "    print(n1, end = '  ')\n",
    "    Sum = Sum + n1\n",
    "    Next = n1 + n2\n",
    "    n1 = n2\n",
    "    n2 = Next\n",
    "    i = i + 1"
   ]
  },
  {
   "cell_type": "code",
   "execution_count": 26,
   "id": "55f37048-3fbe-4eed-8c0e-2158a8c99651",
   "metadata": {},
   "outputs": [
    {
     "name": "stdout",
     "output_type": "stream",
     "text": [
      "['p', 'w', 's', 'k', 'i', 'l', 'l', 's']\n"
     ]
    }
   ],
   "source": [
    "#Que 7\n",
    "l = [ letter for letter in 'pwskills' ]\n",
    "print( l )"
   ]
  },
  {
   "cell_type": "code",
   "execution_count": 27,
   "id": "3dc07bef-6945-49ae-9b4d-7cf0212e6937",
   "metadata": {},
   "outputs": [
    {
     "name": "stdout",
     "output_type": "stream",
     "text": [
      "['p', 'w', 's', 'k', 'i', 'l', 'l', 's']\n"
     ]
    }
   ],
   "source": [
    "h = 'pwskills'\n",
    "j = list ( h [i] for i in range (len (h)))\n",
    "print (j)"
   ]
  },
  {
   "cell_type": "code",
   "execution_count": 28,
   "id": "0a8b0154-d497-4cb7-9036-5c6cd4d15d5b",
   "metadata": {},
   "outputs": [
    {
     "name": "stdin",
     "output_type": "stream",
     "text": [
      "Enter the number:  5112\n"
     ]
    },
    {
     "name": "stdout",
     "output_type": "stream",
     "text": [
      "5112 is not a Palindrome\n"
     ]
    }
   ],
   "source": [
    "# Que 8\n",
    "# palindrome number in python using while loop\n",
    "\n",
    "# take inputs\n",
    "num = int(input('Enter the number: '))\n",
    "\n",
    "# calculate reverse of number\n",
    "reverse = 0\n",
    "number = num\n",
    "while(num != 0):\n",
    "   remainder = num % 10\n",
    "   reverse = reverse * 10 + remainder\n",
    "   num = int(num / 10)\n",
    "\n",
    "# compare reverse to original number\n",
    "if(number == reverse):\n",
    "   print(number,'is a Palindrome')\n",
    "else:\n",
    "   print(number,'is not a Palindrome')"
   ]
  },
  {
   "cell_type": "code",
   "execution_count": 23,
   "id": "56330069-14c0-49b9-bbae-88053c585f7d",
   "metadata": {},
   "outputs": [
    {
     "name": "stdout",
     "output_type": "stream",
     "text": [
      "[1, 3, 5, 7, 9, 11, 13, 15, 17, 19, 21, 23, 25, 27, 29, 31, 33, 35, 37, 39, 41, 43, 45, 47, 49, 51, 53, 55, 57, 59, 61, 63, 65, 67, 69, 71, 73, 75, 77, 79, 81, 83, 85, 87, 89, 91, 93, 95, 97, 99]\n"
     ]
    }
   ],
   "source": [
    "# Que 9\n",
    "r = [element for element in range(1, 100) if element % 2 == 1 ]\n",
    "print(r)"
   ]
  }
 ],
 "metadata": {
  "kernelspec": {
   "display_name": "Python 3 (ipykernel)",
   "language": "python",
   "name": "python3"
  },
  "language_info": {
   "codemirror_mode": {
    "name": "ipython",
    "version": 3
   },
   "file_extension": ".py",
   "mimetype": "text/x-python",
   "name": "python",
   "nbconvert_exporter": "python",
   "pygments_lexer": "ipython3",
   "version": "3.10.8"
  }
 },
 "nbformat": 4,
 "nbformat_minor": 5
}
