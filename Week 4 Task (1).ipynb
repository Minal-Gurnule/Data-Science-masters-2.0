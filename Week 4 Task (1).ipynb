{
 "cells": [
  {
   "cell_type": "code",
   "execution_count": 21,
   "id": "2a6b3382-c4ef-4199-bbcb-0f3ed9d8580b",
   "metadata": {},
   "outputs": [],
   "source": [
    "# Que 1\n",
    "\n",
    "class vehicle :\n",
    "    \n",
    "    def __init__ (self,  name_of_vehicle, max_speed, average_of_vehicle) :\n",
    "        \n",
    "        self.name_of_vehicle = name_of_vehicle\n",
    "        \n",
    "        self.max_speed =  max_speed\n",
    "        \n",
    "        self.average_of_vehicle = average_of_vehicle\n",
    "        \n",
    "    def vehicles_details (self) :\n",
    "        \n",
    "        print (self.name_of_vehicle, self.max_speed, self.average_of_vehicle)\n",
    "        \n",
    "veh = vehicle ( \"totota\" , 150 , 100 )"
   ]
  },
  {
   "cell_type": "code",
   "execution_count": 28,
   "id": "67302510-52be-4116-b8f5-b22b203174b1",
   "metadata": {},
   "outputs": [
    {
     "data": {
      "text/plain": [
       "150"
      ]
     },
     "execution_count": 28,
     "metadata": {},
     "output_type": "execute_result"
    }
   ],
   "source": [
    "veh.max_speed"
   ]
  },
  {
   "cell_type": "code",
   "execution_count": 8,
   "id": "e275b18b-f2aa-4d12-9b4e-02f93851dea3",
   "metadata": {},
   "outputs": [
    {
     "name": "stdout",
     "output_type": "stream",
     "text": [
      "totota 150 100\n"
     ]
    }
   ],
   "source": [
    "veh.vehicles_details ( )"
   ]
  },
  {
   "cell_type": "code",
   "execution_count": 41,
   "id": "c8dd0264-f671-473b-8583-947f2a8d29cd",
   "metadata": {},
   "outputs": [
    {
     "name": "stdout",
     "output_type": "stream",
     "text": [
      "Swift 10\n"
     ]
    }
   ],
   "source": [
    "# Que 2\n",
    "\n",
    "class vehicle :\n",
    "    \n",
    "    def __init__ (self,  name_of_vehicle, max_speed, average_of_vehicle) :\n",
    "        \n",
    "        self.name_of_vehicle = name_of_vehicle\n",
    "        \n",
    "        self.max_speed =  max_speed\n",
    "        \n",
    "        self.average_of_vehicle = average_of_vehicle\n",
    "        \n",
    "    def vehicles_details (self) :\n",
    "        \n",
    "        print (self.name_of_vehicle, self.max_speed, self.average_of_vehicle)\n",
    "        \n",
    "\n",
    "class car (vehicle) :\n",
    "    \n",
    "    def seating_capacity (self):\n",
    "        \n",
    "        seating_capacity = 10;\n",
    "        print (self.name_of_vehicle , seating_capacity)\n",
    "    \n",
    "\n",
    "obj_vehicle_car = car ( \"Swift\" , 200 , 500 )\n",
    "obj_vehicle_car.seating_capacity()\n",
    "    "
   ]
  },
  {
   "cell_type": "code",
   "execution_count": 31,
   "id": "d829ddb1-165a-4221-91ab-507fab1e7f22",
   "metadata": {},
   "outputs": [
    {
     "name": "stdout",
     "output_type": "stream",
     "text": [
      "hardworking\n",
      "clever\n",
      "naughty\n"
     ]
    }
   ],
   "source": [
    "# Que 3 multiple inheritance - The class originated from more than one class.\n",
    "\n",
    "class student1:\n",
    "    def student1_info(self):\n",
    "        print(\"hardworking\")\n",
    "\n",
    "class student2:\n",
    "    def student2_info(self):\n",
    "        print(\"clever\")\n",
    "        \n",
    "class student3:\n",
    "    def student3_info(self):\n",
    "        print(\"naughty\")\n",
    "\n",
    "class student(student1, student2, student3):\n",
    "    pass\n",
    "\n",
    "# create an object of Bat class\n",
    "a = student()\n",
    "\n",
    "a.student1_info()\n",
    "a.student2_info()\n",
    "a.student3_info()"
   ]
  },
  {
   "cell_type": "code",
   "execution_count": 11,
   "id": "61cda798-6ccf-4d92-bec0-9e2a2f06d476",
   "metadata": {},
   "outputs": [
    {
     "name": "stdout",
     "output_type": "stream",
     "text": [
      "17\n"
     ]
    }
   ],
   "source": [
    "# Que 4 \n",
    "# Getter - This allows to access the atribute in a class.\n",
    "# Setter - This allows to modifiy or mutate the attribute in a class.\n",
    "\n",
    "class mohini:\n",
    "     def __init__(self):\n",
    "          self._age = a\n",
    "       \n",
    "     # using property decorator\n",
    "     # getter function\n",
    "     @property\n",
    "     def age(self):\n",
    "        return self._age\n",
    "       \n",
    "     # setter function\n",
    "     @age.setter\n",
    "     def age(self, a):\n",
    "         if(a < 18):\n",
    "                \n",
    "                self._age = a\n",
    "  \n",
    "mohini.age = 17\n",
    "  \n",
    "print(mohini.age)\n"
   ]
  },
  {
   "cell_type": "code",
   "execution_count": 12,
   "id": "545960a6-d2db-4cce-8d68-913bc0112d1b",
   "metadata": {},
   "outputs": [
    {
     "name": "stdout",
     "output_type": "stream",
     "text": [
      "defining Parent\n",
      "defining parent and child\n"
     ]
    }
   ],
   "source": [
    "\"\"\" Que 5\n",
    "Method overriding is a feature of object-oriented programming languages where the subclass can provide the program with \n",
    "specific characteristics or a specific implementation process of data provided that are already defined in the parent \n",
    "class or superclass.\"\"\"\n",
    "\n",
    "# parent class\n",
    "class Parent():\n",
    "\t\n",
    "\tdef __init__(self):\n",
    "\t\tself.value = \"defining Parent\"\n",
    "\t\t\n",
    "\n",
    "\tdef show(self):\n",
    "\t\tprint(self.value)\n",
    "\t\t\n",
    "# child class\n",
    "class child (Parent):\n",
    "\t\n",
    "\t# Constructor\n",
    "\tdef __init__(self):\n",
    "\t\tself.value = \"defining parent and child\"\n",
    "\t\t\n",
    "\tdef show(self):\n",
    "\t\tprint(self.value)\n",
    "\t\n",
    "    \n",
    "p1 = Parent ( )\n",
    "c1 = child ( )\n",
    "\n",
    "p1.show()\n",
    "c1.show()\n"
   ]
  }
 ],
 "metadata": {
  "kernelspec": {
   "display_name": "Python 3 (ipykernel)",
   "language": "python",
   "name": "python3"
  },
  "language_info": {
   "codemirror_mode": {
    "name": "ipython",
    "version": 3
   },
   "file_extension": ".py",
   "mimetype": "text/x-python",
   "name": "python",
   "nbconvert_exporter": "python",
   "pygments_lexer": "ipython3",
   "version": "3.10.8"
  }
 },
 "nbformat": 4,
 "nbformat_minor": 5
}
