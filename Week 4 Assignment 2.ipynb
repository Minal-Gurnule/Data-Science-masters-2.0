{
 "cells": [
  {
   "cell_type": "code",
   "execution_count": 17,
   "id": "9f2b4636-17ec-45bc-8871-e4a3703cc50d",
   "metadata": {},
   "outputs": [],
   "source": [
    "\"\"\" Que 1 Abstraction is the process of hiding the internal data from the outside and displays only the relevant attributes\n",
    "of objects\"\"\"\n",
    "\n",
    "import abc\n",
    "\n",
    "class span :\n",
    "    \n",
    "    @abc.abstractmethod\n",
    "    def employees_id (self) :\n",
    "        pass\n",
    "    \n",
    "    @abc.abstractmethod\n",
    "    def employees_name (self) :\n",
    "        pass\n",
    "    \n",
    "    @abc.abstractmethod\n",
    "    def employees_designation (self) :\n",
    "        pass"
   ]
  },
  {
   "cell_type": "code",
   "execution_count": 2,
   "id": "d1d50599-334d-4097-9448-44fe83cc63fe",
   "metadata": {},
   "outputs": [],
   "source": [
    "class lab (span) :\n",
    "    \n",
    "    def employees_id (self) :\n",
    "        return \"two\"\n",
    "    \n",
    "    def employees_name (self) :\n",
    "        return \"gulnaz\"\n",
    "    \n",
    "    def employees_designation (self) :\n",
    "        return \"coordinator\""
   ]
  },
  {
   "cell_type": "code",
   "execution_count": 3,
   "id": "7c9753dd-90e0-49c5-99f4-55d88664abd7",
   "metadata": {},
   "outputs": [],
   "source": [
    "class water (span) :\n",
    "    \n",
    "    def employees_id (self ) :\n",
    "        return \"one\"\n",
    "    \n",
    "    def employees_name (self) :\n",
    "        return \"minal\"\n",
    "    \n",
    "    def employees_designation (self) :\n",
    "        return \"director\""
   ]
  },
  {
   "cell_type": "code",
   "execution_count": 4,
   "id": "7c57b4f4-d272-40ae-9800-4f6cc413f7d5",
   "metadata": {},
   "outputs": [
    {
     "data": {
      "text/plain": [
       "'minal'"
      ]
     },
     "execution_count": 4,
     "metadata": {},
     "output_type": "execute_result"
    }
   ],
   "source": [
    "w = water ( )\n",
    "w.employees_name ( )"
   ]
  },
  {
   "cell_type": "code",
   "execution_count": 5,
   "id": "4b705ad8-235c-4253-a3e3-2dad14a8a04f",
   "metadata": {},
   "outputs": [
    {
     "data": {
      "text/plain": [
       "'coordinator'"
      ]
     },
     "execution_count": 5,
     "metadata": {},
     "output_type": "execute_result"
    }
   ],
   "source": [
    "l = lab ( )\n",
    "l.employees_designation ( )"
   ]
  },
  {
   "cell_type": "code",
   "execution_count": 6,
   "id": "9a5bbc79-fe69-4c9b-aeec-aca50afe2f77",
   "metadata": {},
   "outputs": [],
   "source": [
    "\"\"\" Que 2\n",
    "Abstraction - Hide the internal data to reduce the complexity of code.\n",
    "Encapsulation - Hide the internal data to protect the data. \"\"\"\n",
    "\n",
    "#Abstraction\n",
    "\n",
    "import abc\n",
    "\n",
    "class students :\n",
    "    \n",
    "    @abc.abstractmethod\n",
    "    def science (self) :\n",
    "        pass\n",
    "    \n",
    "    @abc.abstractmethod\n",
    "    def mathematics (self) :\n",
    "        pass\n",
    "    \n",
    "    @abc.abstractmethod\n",
    "    def history (self) :\n",
    "        pass"
   ]
  },
  {
   "cell_type": "code",
   "execution_count": 7,
   "id": "0783c218-2edf-4795-88b3-0dc010cea496",
   "metadata": {},
   "outputs": [],
   "source": [
    "class student1 (students) :\n",
    "    \n",
    "    def science (self) :\n",
    "        return \"is my fav subject\"\n",
    "    \n",
    "    def mathematics (self) :\n",
    "        return \"is a very hard\"\n",
    "    \n",
    "    def history (self) :\n",
    "        return \"is a very complicated\""
   ]
  },
  {
   "cell_type": "code",
   "execution_count": 8,
   "id": "fd48c295-db1b-489f-8c62-c63da7045df7",
   "metadata": {},
   "outputs": [],
   "source": [
    "class student2 (students) :\n",
    "    \n",
    "    def science (self ) :\n",
    "        return \"I dont like this subject\"\n",
    "    \n",
    "    def mathematics (self) :\n",
    "        return \"i love to solve this subject\"\n",
    "    \n",
    "    def history (self) :\n",
    "        return \"i like to explore history than reading\""
   ]
  },
  {
   "cell_type": "code",
   "execution_count": 9,
   "id": "601fa754-3fa0-4686-9338-241fd94c8859",
   "metadata": {},
   "outputs": [
    {
     "data": {
      "text/plain": [
       "'is my fav subject'"
      ]
     },
     "execution_count": 9,
     "metadata": {},
     "output_type": "execute_result"
    }
   ],
   "source": [
    "stu = student1 ( )\n",
    "stu.science ( )"
   ]
  },
  {
   "cell_type": "code",
   "execution_count": 16,
   "id": "2822febd-d832-4c9a-86cd-bdd49ed3fe55",
   "metadata": {},
   "outputs": [
    {
     "data": {
      "text/plain": [
       "'i love to solve this subject'"
      ]
     },
     "execution_count": 16,
     "metadata": {},
     "output_type": "execute_result"
    }
   ],
   "source": [
    "s2 = student2 ( )\n",
    "s2.mathematics ( )"
   ]
  },
  {
   "cell_type": "code",
   "execution_count": 11,
   "id": "87b2bf00-b30c-40b0-b04a-8f9cbac2b87f",
   "metadata": {},
   "outputs": [],
   "source": [
    "#Encapsulation\n",
    "\n",
    "class student :\n",
    "    \n",
    "    def __init__ (self, name, age, rank, city) :\n",
    "        self.__name = name\n",
    "        self.__age = age\n",
    "        self.__rank = rank\n",
    "        self.__city = city\n",
    "    \n",
    "def a_name (self, name ):\n",
    "    self.__name = name\n",
    "    \n",
    "def b_name (self):\n",
    "    return self.__name\n",
    "\n",
    "minu = student ('minal', 21, 'first', 'pune')\n"
   ]
  },
  {
   "cell_type": "code",
   "execution_count": 12,
   "id": "cf6939e2-442d-4620-888a-966029b0879b",
   "metadata": {},
   "outputs": [
    {
     "data": {
      "text/plain": [
       "'minal'"
      ]
     },
     "execution_count": 12,
     "metadata": {},
     "output_type": "execute_result"
    }
   ],
   "source": [
    " minu._student__name"
   ]
  },
  {
   "cell_type": "code",
   "execution_count": 13,
   "id": "099ad80c-edf0-4a7b-945e-83ecdeece1f6",
   "metadata": {},
   "outputs": [
    {
     "data": {
      "text/plain": [
       "' Que 3 \\nABC model is a library of python. Used for abstraction using @abstactmethods.\\nABC model is useful because it provides infrastructure for defining abstract base classes.'"
      ]
     },
     "execution_count": 13,
     "metadata": {},
     "output_type": "execute_result"
    }
   ],
   "source": [
    "\"\"\" Que 3 \n",
    "ABC model is a library of python. Used for abstraction using @abstactmethods.\n",
    "ABC model is useful because it provides infrastructure for defining abstract base classes.\"\"\""
   ]
  },
  {
   "cell_type": "code",
   "execution_count": 14,
   "id": "eadab77f-8829-44fb-8df2-4ec8f486a6ed",
   "metadata": {},
   "outputs": [
    {
     "data": {
      "text/plain": [
       "' Que 4 \\nWe can use abc module of python to achieve data abstraction in python. To define an abstract method in python we can \\nimport abstractmethod from the abc module of python.'"
      ]
     },
     "execution_count": 14,
     "metadata": {},
     "output_type": "execute_result"
    }
   ],
   "source": [
    "\"\"\" Que 4 \n",
    "We can use abc module of python to achieve data abstraction in python. To define an abstract method in python we can \n",
    "import abstractmethod from the abc module of python.\"\"\""
   ]
  },
  {
   "cell_type": "code",
   "execution_count": 15,
   "id": "ba5a9e2c-e541-4b9c-b6c4-68e85271aad9",
   "metadata": {},
   "outputs": [
    {
     "data": {
      "text/plain": [
       "' Que 5\\nNo, we cannot create an instance of an abstract class because it does not have a complete implementation.\\nThe purpose of an abstract class is to function as a base for subclasses. It acts like a template, or an empty or \\npartially empty structure, you should extend it and build on it before you can use it.\\nWhen an abstract class is subclassed, the subclass usually provides implementations for all of the abstract methods in \\nits parent class. However, if it does not, then the subclass must also be declared abstract'"
      ]
     },
     "execution_count": 15,
     "metadata": {},
     "output_type": "execute_result"
    }
   ],
   "source": [
    "\"\"\" Que 5\n",
    "No, we cannot create an instance of an abstract class because it does not have a complete implementation.\n",
    "The purpose of an abstract class is to function as a base for subclasses. It acts like a template, or an empty or \n",
    "partially empty structure, you should extend it and build on it before you can use it.\n",
    "When an abstract class is subclassed, the subclass usually provides implementations for all of the abstract methods in \n",
    "its parent class. However, if it does not, then the subclass must also be declared abstract\"\"\"\n"
   ]
  }
 ],
 "metadata": {
  "kernelspec": {
   "display_name": "Python 3 (ipykernel)",
   "language": "python",
   "name": "python3"
  },
  "language_info": {
   "codemirror_mode": {
    "name": "ipython",
    "version": 3
   },
   "file_extension": ".py",
   "mimetype": "text/x-python",
   "name": "python",
   "nbconvert_exporter": "python",
   "pygments_lexer": "ipython3",
   "version": "3.10.8"
  }
 },
 "nbformat": 4,
 "nbformat_minor": 5
}
