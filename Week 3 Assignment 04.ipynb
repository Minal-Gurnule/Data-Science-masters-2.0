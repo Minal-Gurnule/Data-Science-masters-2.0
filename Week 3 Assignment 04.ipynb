{
 "cells": [
  {
   "cell_type": "code",
   "execution_count": 34,
   "id": "65956ba4-a9e0-4f06-b3ad-d95c57008dcb",
   "metadata": {},
   "outputs": [
    {
     "name": "stdout",
     "output_type": "stream",
     "text": [
      "\n",
      "Sorting the list of Tuples:\n",
      "[('Virat Kohli', 24936), ('Jack Kallis', 25534), ('Ricky Ponting', 27483), ('Sachin Tendulkar', 34357)]\n"
     ]
    }
   ],
   "source": [
    "# Que 1\n",
    "minal =  [('Sachin Tendulkar', 34357), ('Ricky Ponting', 27483), ('Jack Kallis', 25534), ('Virat Kohli', 24936)]\n",
    "minal.sort(key = lambda x : x [1] )\n",
    "print(\"\\nSorting the list of Tuples:\")\n",
    "print (minal)"
   ]
  },
  {
   "cell_type": "code",
   "execution_count": 36,
   "id": "c4869004-7d37-4329-a6ab-027292daabca",
   "metadata": {},
   "outputs": [
    {
     "data": {
      "text/plain": [
       "[('Virat Kohli', 24936),\n",
       " ('Jack Kallis', 25534),\n",
       " ('Ricky Ponting', 27483),\n",
       " ('Sachin Tendulkar', 34357)]"
      ]
     },
     "execution_count": 36,
     "metadata": {},
     "output_type": "execute_result"
    }
   ],
   "source": [
    "minal"
   ]
  },
  {
   "cell_type": "code",
   "execution_count": 37,
   "id": "d277cf83-bd67-43ec-8ef3-7f09cc6eccc3",
   "metadata": {},
   "outputs": [
    {
     "name": "stdout",
     "output_type": "stream",
     "text": [
      "\n",
      "Square every number of the list:\n",
      "[1, 4, 9, 16, 25, 36, 49, 64, 81, 100]\n"
     ]
    }
   ],
   "source": [
    "# Que 2\n",
    "guru = [1, 2, 3, 4, 5, 6, 7, 8, 9, 10]\n",
    "print(\"\\nSquare every number of the list:\")\n",
    "guru = list(map(lambda x: x ** 2, guru))\n",
    "print(guru)"
   ]
  },
  {
   "cell_type": "code",
   "execution_count": 38,
   "id": "4afa365a-55ce-471e-97dd-84e5baf6eb14",
   "metadata": {},
   "outputs": [
    {
     "data": {
      "text/plain": [
       "[1, 4, 9, 16, 25, 36, 49, 64, 81, 100]"
      ]
     },
     "execution_count": 38,
     "metadata": {},
     "output_type": "execute_result"
    }
   ],
   "source": [
    "guru"
   ]
  },
  {
   "cell_type": "code",
   "execution_count": 40,
   "id": "104fa0a9-5244-4b0a-a09c-65ddf419b54e",
   "metadata": {},
   "outputs": [
    {
     "name": "stdout",
     "output_type": "stream",
     "text": [
      "\n",
      "Tuple of strings:\n",
      "('1', '2', '3', '4', '5', '6', '7', '8', '9', '10')\n"
     ]
    }
   ],
   "source": [
    "# Que 3\n",
    "list_integer = [1, 2, 3, 4, 5, 6, 7, 8, 9, 10]\n",
    "tuple_string = tuple(map(str,list_integer))\n",
    "print(\"\\nTuple of strings:\")\n",
    "print(tuple_string)"
   ]
  },
  {
   "cell_type": "code",
   "execution_count": 41,
   "id": "3ed5ecec-d203-40e1-8507-5ff844c8ec94",
   "metadata": {},
   "outputs": [
    {
     "data": {
      "text/plain": [
       "('1', '2', '3', '4', '5', '6', '7', '8', '9', '10')"
      ]
     },
     "execution_count": 41,
     "metadata": {},
     "output_type": "execute_result"
    }
   ],
   "source": [
    "tuple_string"
   ]
  },
  {
   "cell_type": "code",
   "execution_count": 7,
   "id": "3b56141d-de9a-4464-8174-40521ba1954d",
   "metadata": {},
   "outputs": [
    {
     "name": "stdout",
     "output_type": "stream",
     "text": [
      "15511210043330985984000000\n"
     ]
    }
   ],
   "source": [
    "# Que 4\n",
    "import functools\n",
    "import operator\n",
    "list_num = [ 1,2,3,4,5,6,7,8,9,10,11,12,13,14,15,16,17,18,19,20,21,22,23,24,25]\n",
    "print(functools.reduce(operator.mul, list_num))"
   ]
  },
  {
   "cell_type": "code",
   "execution_count": 110,
   "id": "547d4150-28da-4864-98a9-6fa0503b1b66",
   "metadata": {},
   "outputs": [
    {
     "name": "stdout",
     "output_type": "stream",
     "text": [
      "Numbers divisible by 2 are [2, 6, 60, 90, 120, 46]\n"
     ]
    }
   ],
   "source": [
    "# Que 5\n",
    "a = [2, 3, 6, 9, 27, 60, 90, 120, 55, 46]\n",
    "two = list(filter(lambda x: (x % 2 == 0), a))\n",
    "print(\"Numbers divisible by 2 are\", two)"
   ]
  },
  {
   "cell_type": "code",
   "execution_count": 111,
   "id": "cab29be4-6d08-4a8d-9100-4cefd696b32c",
   "metadata": {},
   "outputs": [
    {
     "data": {
      "text/plain": [
       "[2, 6, 60, 90, 120, 46]"
      ]
     },
     "execution_count": 111,
     "metadata": {},
     "output_type": "execute_result"
    }
   ],
   "source": [
    "two"
   ]
  },
  {
   "cell_type": "code",
   "execution_count": 112,
   "id": "f7cfc789-c7ff-4156-923b-97b8eceef508",
   "metadata": {},
   "outputs": [
    {
     "name": "stdout",
     "output_type": "stream",
     "text": [
      "Numbers divisible by 2 are [3, 6, 9, 27, 60, 90, 120]\n"
     ]
    }
   ],
   "source": [
    "three = list(filter(lambda x: (x % 3 == 0), a))\n",
    "print(\"Numbers divisible by 2 are\", three)"
   ]
  },
  {
   "cell_type": "code",
   "execution_count": 113,
   "id": "9595a67c-a440-4d13-ad02-a9d53f0880ff",
   "metadata": {},
   "outputs": [
    {
     "data": {
      "text/plain": [
       "[3, 6, 9, 27, 60, 90, 120]"
      ]
     },
     "execution_count": 113,
     "metadata": {},
     "output_type": "execute_result"
    }
   ],
   "source": [
    "three"
   ]
  },
  {
   "cell_type": "code",
   "execution_count": 118,
   "id": "9afe4695-26dc-438d-b7e4-5dd85e5c119d",
   "metadata": {},
   "outputs": [
    {
     "name": "stdout",
     "output_type": "stream",
     "text": [
      "\n",
      "List of palindromes:\n",
      "['php', 'aba', 'radar', 'level']\n"
     ]
    }
   ],
   "source": [
    "# Que 6\n",
    "b = ['python', 'php', 'aba', 'radar', 'level']\n",
    "c = list(filter(lambda x: (x == \"\".join(reversed(x))), b)) \n",
    "print(\"\\nList of palindromes:\")\n",
    "print(c)"
   ]
  },
  {
   "cell_type": "code",
   "execution_count": 116,
   "id": "08f67eea-4fba-4544-950c-f897f1a7efce",
   "metadata": {},
   "outputs": [
    {
     "data": {
      "text/plain": [
       "['php', 'aba', 'radar', 'level']"
      ]
     },
     "execution_count": 116,
     "metadata": {},
     "output_type": "execute_result"
    }
   ],
   "source": [
    "c"
   ]
  }
 ],
 "metadata": {
  "kernelspec": {
   "display_name": "Python 3 (ipykernel)",
   "language": "python",
   "name": "python3"
  },
  "language_info": {
   "codemirror_mode": {
    "name": "ipython",
    "version": 3
   },
   "file_extension": ".py",
   "mimetype": "text/x-python",
   "name": "python",
   "nbconvert_exporter": "python",
   "pygments_lexer": "ipython3",
   "version": "3.10.8"
  }
 },
 "nbformat": 4,
 "nbformat_minor": 5
}
