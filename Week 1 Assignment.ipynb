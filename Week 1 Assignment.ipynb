{
 "cells": [
  {
   "cell_type": "code",
   "execution_count": 1,
   "id": "124b3968-13d3-4ab7-b34c-0ceb4e9e9c39",
   "metadata": {},
   "outputs": [
    {
     "data": {
      "text/plain": [
       "str"
      ]
     },
     "execution_count": 1,
     "metadata": {},
     "output_type": "execute_result"
    }
   ],
   "source": [
    "#Que 1 (i)\n",
    "a='minal'\n",
    "type(a)"
   ]
  },
  {
   "cell_type": "code",
   "execution_count": 2,
   "id": "8acbe59f-83ec-4926-908d-f49e9477bb68",
   "metadata": {},
   "outputs": [
    {
     "data": {
      "text/plain": [
       "list"
      ]
     },
     "execution_count": 2,
     "metadata": {},
     "output_type": "execute_result"
    }
   ],
   "source": [
    "#Que 1 (ii)\n",
    "b=[1,2,'minal',6.6]\n",
    "type(b)"
   ]
  },
  {
   "cell_type": "code",
   "execution_count": 3,
   "id": "65f1105f-5bb8-4af4-ae39-9b540b842328",
   "metadata": {},
   "outputs": [
    {
     "data": {
      "text/plain": [
       "float"
      ]
     },
     "execution_count": 3,
     "metadata": {},
     "output_type": "execute_result"
    }
   ],
   "source": [
    "#Que 1 (iii)\n",
    "c=66.3\n",
    "type(c)"
   ]
  },
  {
   "cell_type": "code",
   "execution_count": 38,
   "id": "5830c8e2-2766-429c-a58f-177674e178cf",
   "metadata": {},
   "outputs": [
    {
     "data": {
      "text/plain": [
       "tuple"
      ]
     },
     "execution_count": 38,
     "metadata": {},
     "output_type": "execute_result"
    }
   ],
   "source": [
    "#Que 1 (iv)\n",
    "d=(1,2,3,4,5)\n",
    "type(d)"
   ]
  },
  {
   "cell_type": "code",
   "execution_count": 10,
   "id": "3f082ab0-ab07-48d6-89a7-49910cc67174",
   "metadata": {},
   "outputs": [
    {
     "data": {
      "text/plain": [
       "str"
      ]
     },
     "execution_count": 10,
     "metadata": {},
     "output_type": "execute_result"
    }
   ],
   "source": [
    "#Que 2 (i)\n",
    "var1 = 'minu'\n",
    "type(var1)"
   ]
  },
  {
   "cell_type": "code",
   "execution_count": 12,
   "id": "d18e76dc-3088-415a-97b0-ff9a66180612",
   "metadata": {},
   "outputs": [
    {
     "data": {
      "text/plain": [
       "str"
      ]
     },
     "execution_count": 12,
     "metadata": {},
     "output_type": "execute_result"
    }
   ],
   "source": [
    "#Que 2 (ii)\n",
    "var2 = '[ DS , ML , Python]'\n",
    "type(var2)"
   ]
  },
  {
   "cell_type": "code",
   "execution_count": 15,
   "id": "e0337a7c-03fb-4ae6-a9c8-00a0b6bd3e64",
   "metadata": {},
   "outputs": [
    {
     "data": {
      "text/plain": [
       "list"
      ]
     },
     "execution_count": 15,
     "metadata": {},
     "output_type": "execute_result"
    }
   ],
   "source": [
    "#Que 2 (iii)\n",
    "var3 = [ 'DS' , 'M' , 'Python' ]\n",
    "type(var3)"
   ]
  },
  {
   "cell_type": "code",
   "execution_count": 16,
   "id": "7c07783e-fec7-46b9-b984-7b9f8d9dc92a",
   "metadata": {},
   "outputs": [
    {
     "data": {
      "text/plain": [
       "int"
      ]
     },
     "execution_count": 16,
     "metadata": {},
     "output_type": "execute_result"
    }
   ],
   "source": [
    "#Que 2 (iv)\n",
    "var4 = 1\n",
    "type(var4)"
   ]
  },
  {
   "cell_type": "code",
   "execution_count": 17,
   "id": "7a2d26a7-cf0b-4cfb-89d2-f8b26560735b",
   "metadata": {},
   "outputs": [
    {
     "name": "stdout",
     "output_type": "stream",
     "text": [
      "0.25\n"
     ]
    }
   ],
   "source": [
    "#Que 3 (i) : Arithmetic Division Operator - Use for division\n",
    "e=1/4\n",
    "print(e)\n"
   ]
  },
  {
   "cell_type": "code",
   "execution_count": 44,
   "id": "ae96cf64-a4f6-4261-b0a2-7a9e4659b1bc",
   "metadata": {},
   "outputs": [
    {
     "name": "stdout",
     "output_type": "stream",
     "text": [
      "10\n"
     ]
    }
   ],
   "source": [
    "#Que 3 (ii) : Arithmetic Modulus Operator. Use to calculate the percentage\n",
    "f=10%100\n",
    "print(f)"
   ]
  },
  {
   "cell_type": "code",
   "execution_count": 40,
   "id": "a53aa118-1004-4c5d-abf6-bb3d39161e6a",
   "metadata": {},
   "outputs": [
    {
     "name": "stdout",
     "output_type": "stream",
     "text": [
      "2\n"
     ]
    }
   ],
   "source": [
    "#Que 3 (iii) : Arithmetic Operator - Floor Division\n",
    "g=10//4\n",
    "print(g)"
   ]
  },
  {
   "cell_type": "code",
   "execution_count": 45,
   "id": "e862c47b-4b5a-47f0-9361-43a64b81d6ef",
   "metadata": {},
   "outputs": [
    {
     "name": "stdout",
     "output_type": "stream",
     "text": [
      "1000\n"
     ]
    }
   ],
   "source": [
    "#Que 3 (iv) : Arithmetic Operator-exponential operator. Use to calculate the power of first value\n",
    "h=10**3\n",
    "print(h)"
   ]
  },
  {
   "cell_type": "code",
   "execution_count": 2,
   "id": "191ddd8f-1a60-4c92-b7bb-88a85def58c6",
   "metadata": {},
   "outputs": [
    {
     "name": "stdout",
     "output_type": "stream",
     "text": [
      "<class 'int'>\n",
      "<class 'int'>\n",
      "<class 'float'>\n",
      "<class 'str'>\n",
      "<class 'int'>\n",
      "<class 'int'>\n",
      "<class 'str'>\n",
      "<class 'float'>\n",
      "<class 'int'>\n",
      "<class 'int'>\n",
      "<class 'bool'>\n"
     ]
    }
   ],
   "source": [
    "#Que 4\n",
    "i=[1,2,6.8,'triangle',45,0,'True',55.6,500,60536,False]\n",
    "for s in i:\n",
    "    print (type(s))"
   ]
  },
  {
   "cell_type": "code",
   "execution_count": 3,
   "id": "69e6336a-47f6-4ecd-8181-6a54501d59e2",
   "metadata": {},
   "outputs": [
    {
     "name": "stdout",
     "output_type": "stream",
     "text": [
      "100.0\n"
     ]
    }
   ],
   "source": [
    "#Que 5\n",
    "a=2000\n",
    "b=20\n",
    "while a%b==0:\n",
    "    print(a/b)\n",
    "    break\n",
    "    "
   ]
  },
  {
   "cell_type": "code",
   "execution_count": 2,
   "id": "9db02312-bb5a-4df2-85a8-78a1618257d2",
   "metadata": {},
   "outputs": [
    {
     "data": {
      "text/plain": [
       "100.0"
      ]
     },
     "execution_count": 2,
     "metadata": {},
     "output_type": "execute_result"
    }
   ],
   "source": [
    "c"
   ]
  },
  {
   "cell_type": "code",
   "execution_count": 6,
   "id": "d681467d-c5b3-41d0-b8b8-e6089ea15492",
   "metadata": {},
   "outputs": [
    {
     "name": "stdout",
     "output_type": "stream",
     "text": [
      "5  is not divisible by 3\n",
      "15  is divisible by 3\n",
      "30  is divisible by 3\n",
      "35  is not divisible by 3\n",
      "40  is not divisible by 3\n",
      "45  is divisible by 3\n",
      "50  is not divisible by 3\n",
      "55  is not divisible by 3\n",
      "65  is not divisible by 3\n",
      "60  is divisible by 3\n",
      "75  is divisible by 3\n",
      "21  is divisible by 3\n",
      "807  is divisible by 3\n",
      "327  is divisible by 3\n",
      "412  is not divisible by 3\n",
      "333  is divisible by 3\n",
      "452  is not divisible by 3\n",
      "330  is divisible by 3\n",
      "84  is divisible by 3\n",
      "315  is divisible by 3\n",
      "150  is divisible by 3\n",
      "183  is divisible by 3\n",
      "642  is divisible by 3\n",
      "250  is not divisible by 3\n",
      "555  is divisible by 3\n"
     ]
    }
   ],
   "source": [
    "#Que 6\n",
    "j=[5,15,30,35,40,45,50,55,65,60,75,21,807,327,412,333,452,330,84,315,150,183,642,250,555]\n",
    "for i in j:\n",
    "    if i%3==0:\n",
    "        print(i, \" is divisible by 3\")\n",
    "    else:\n",
    "        print(i, \" is not divisible by 3\")\n",
    "    \n"
   ]
  },
  {
   "cell_type": "code",
   "execution_count": 1,
   "id": "e12182f4-b9f2-4676-9282-904ff93eb3aa",
   "metadata": {},
   "outputs": [],
   "source": [
    "#Que 7 \n",
    "#Mutable : Allow changes in value\n",
    "k = [1, 2, 3, 4, 5, 6, True]\n",
    "k[3]=30"
   ]
  },
  {
   "cell_type": "code",
   "execution_count": 2,
   "id": "a1536bec-68ec-4bbd-a0d5-319378e91338",
   "metadata": {},
   "outputs": [
    {
     "data": {
      "text/plain": [
       "[1, 2, 3, 30, 5, 6, True]"
      ]
     },
     "execution_count": 2,
     "metadata": {},
     "output_type": "execute_result"
    }
   ],
   "source": [
    "k"
   ]
  },
  {
   "cell_type": "code",
   "execution_count": 5,
   "id": "000745c5-c8bb-4af0-a951-6f80e5971b21",
   "metadata": {},
   "outputs": [
    {
     "data": {
      "text/plain": [
       "'n'"
      ]
     },
     "execution_count": 5,
     "metadata": {},
     "output_type": "execute_result"
    }
   ],
   "source": [
    "#Imutable : Do not allow changes in value\n",
    "l='mina'\n",
    "l[2]\n"
   ]
  },
  {
   "cell_type": "code",
   "execution_count": 8,
   "id": "eb7799cc-590b-4e5b-a17a-07825b1f19c0",
   "metadata": {},
   "outputs": [
    {
     "ename": "TypeError",
     "evalue": "'str' object does not support item assignment",
     "output_type": "error",
     "traceback": [
      "\u001b[0;31m---------------------------------------------------------------------------\u001b[0m",
      "\u001b[0;31mTypeError\u001b[0m                                 Traceback (most recent call last)",
      "Cell \u001b[0;32mIn[8], line 1\u001b[0m\n\u001b[0;32m----> 1\u001b[0m \u001b[43ml\u001b[49m\u001b[43m[\u001b[49m\u001b[38;5;241;43m2\u001b[39;49m\u001b[43m]\u001b[49m\u001b[38;5;241m=\u001b[39m \u001b[38;5;124m'\u001b[39m\u001b[38;5;124mu\u001b[39m\u001b[38;5;124m'\u001b[39m\n",
      "\u001b[0;31mTypeError\u001b[0m: 'str' object does not support item assignment"
     ]
    }
   ],
   "source": [
    "l[2]= 'u'"
   ]
  },
  {
   "cell_type": "code",
   "execution_count": null,
   "id": "55b3f48a-cc29-4446-8278-e0309fecb311",
   "metadata": {},
   "outputs": [],
   "source": []
  }
 ],
 "metadata": {
  "kernelspec": {
   "display_name": "Python 3 (ipykernel)",
   "language": "python",
   "name": "python3"
  },
  "language_info": {
   "codemirror_mode": {
    "name": "ipython",
    "version": 3
   },
   "file_extension": ".py",
   "mimetype": "text/x-python",
   "name": "python",
   "nbconvert_exporter": "python",
   "pygments_lexer": "ipython3",
   "version": "3.10.8"
  }
 },
 "nbformat": 4,
 "nbformat_minor": 5
}
