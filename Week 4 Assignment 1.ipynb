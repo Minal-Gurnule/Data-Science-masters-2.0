{
 "cells": [
  {
   "cell_type": "code",
   "execution_count": 1,
   "id": "dd0f3000-7b67-4c94-897d-b6f6d1902e06",
   "metadata": {},
   "outputs": [
    {
     "name": "stdout",
     "output_type": "stream",
     "text": [
      "Today I have bring jeans and its color is white.\n"
     ]
    }
   ],
   "source": [
    "\"\"\"Que 1 Class - This are user-defined data types that act as the blueprint, skeleton, property for individual objects, \n",
    "attributes and methods.\n",
    "Object -  This are instances of a class created with specifically defined data \"\"\"\n",
    "\n",
    "class cloths:\n",
    "    def __init__(self, name, color):\n",
    "        self.name = name\n",
    "        self.color = color\n",
    " \n",
    "    def add (self):\n",
    "        print(\"Today I have bring \" + self.name +\n",
    "              \" and its color is \"+self.color+\".\")\n",
    " \n",
    "obj = cloths(\"jeans\", \"white\")\n",
    "\n",
    "obj.add()\n",
    "    "
   ]
  },
  {
   "cell_type": "code",
   "execution_count": 5,
   "id": "707c5463-a374-4134-a1b9-ac78cc299d80",
   "metadata": {},
   "outputs": [
    {
     "data": {
      "text/plain": [
       "' Que 2 \\nFour pillars of OOPs\\n1. Abstraction\\n2. Encapsulation\\n3. Inheritance\\n4. Polymorphism '"
      ]
     },
     "execution_count": 5,
     "metadata": {},
     "output_type": "execute_result"
    }
   ],
   "source": [
    "\"\"\" Que 2 \n",
    "Four pillars of OOPs\n",
    "1. Abstraction\n",
    "2. Encapsulation\n",
    "3. Inheritance\n",
    "4. Polymorphism \"\"\""
   ]
  },
  {
   "cell_type": "code",
   "execution_count": 16,
   "id": "01994a09-6890-421b-b96a-274928a8b1fd",
   "metadata": {},
   "outputs": [
    {
     "data": {
      "text/plain": [
       "75"
      ]
     },
     "execution_count": 16,
     "metadata": {},
     "output_type": "execute_result"
    }
   ],
   "source": [
    "\"\"\" Que 3 \n",
    "The __init__ method is a used as a constructor only used in class. This is used to initialize the object's attributes.\"\"\"\n",
    "\n",
    "class marks:\n",
    "    \n",
    "    def __init__ (self, science, maths, english ):\n",
    "        \n",
    "        self.science = science\n",
    "        self.maths = maths\n",
    "        self.english = english\n",
    "        \n",
    "        \n",
    "student = marks ( 75, 55, 86 )\n",
    "\n",
    "student.science\n",
    "        "
   ]
  },
  {
   "cell_type": "code",
   "execution_count": 7,
   "id": "b5cbdf78-2388-48a1-af75-8b36e0f68d72",
   "metadata": {},
   "outputs": [
    {
     "data": {
      "text/plain": [
       "' Que 4\\nSelf used to refer to instance attributes and methods of the class. It works as a reference to the object '"
      ]
     },
     "execution_count": 7,
     "metadata": {},
     "output_type": "execute_result"
    }
   ],
   "source": [
    "\"\"\" Que 4\n",
    "Self used to refer to instance attributes and methods of the class. It works as a reference to the object \"\"\""
   ]
  },
  {
   "cell_type": "code",
   "execution_count": 8,
   "id": "5b1c7f60-b81f-4fbf-a127-499e1b2f2b91",
   "metadata": {},
   "outputs": [
    {
     "data": {
      "text/plain": [
       "'It is good for our health'"
      ]
     },
     "execution_count": 8,
     "metadata": {},
     "output_type": "execute_result"
    }
   ],
   "source": [
    "# Que 5 Inheritance defines the classes that inherit from other classes as derived, subclass, or sub-type classes. \n",
    "# Types - Single Inheritance, Multiple Inheritance, Multilevel Inheritance\n",
    "\n",
    "# Single Inheritance\n",
    "\n",
    "class water :\n",
    "    \n",
    "    def pure_water (self) :\n",
    "        \n",
    "        return (\"It is good for our health\")\n",
    "    \n",
    "class sewage_water (water) :\n",
    "    \n",
    "    pass\n",
    "\n",
    "sewage_water_obj = sewage_water ( )\n",
    "\n",
    "sewage_water_obj.pure_water ( ) "
   ]
  },
  {
   "cell_type": "code",
   "execution_count": 9,
   "id": "ac759286-f5d8-4f7e-a6a5-eae3428008b3",
   "metadata": {},
   "outputs": [
    {
     "data": {
      "text/plain": [
       "'she is my best friend'"
      ]
     },
     "execution_count": 9,
     "metadata": {},
     "output_type": "execute_result"
    }
   ],
   "source": [
    "# Multiple Inheritance\n",
    "\n",
    "class friend1 :\n",
    "    \n",
    "    def good_friend (self):\n",
    "        \n",
    "        return \"she is my best friend\"\n",
    "    \n",
    "class friend2 :\n",
    "    \n",
    "    def bad_friend (self):\n",
    "        \n",
    "        return \"she is my enemy\"\n",
    "    \n",
    "class friend3 (friend1 , friend2) :\n",
    "    \n",
    "    pass\n",
    "\n",
    "friend3_obj = friend3 ( )\n",
    "\n",
    "friend3_obj.good_friend ( )\n"
   ]
  },
  {
   "cell_type": "code",
   "execution_count": 10,
   "id": "a2b20a1f-ebf3-4c17-93e4-8bcb251ba3b7",
   "metadata": {},
   "outputs": [
    {
     "data": {
      "text/plain": [
       "'she is my enemy'"
      ]
     },
     "execution_count": 10,
     "metadata": {},
     "output_type": "execute_result"
    }
   ],
   "source": [
    "friend3_obj.bad_friend ( )"
   ]
  },
  {
   "cell_type": "code",
   "execution_count": 11,
   "id": "869aec28-f69a-49d5-8d59-955d0da88101",
   "metadata": {},
   "outputs": [
    {
     "data": {
      "text/plain": [
       "'she is my enemy'"
      ]
     },
     "execution_count": 11,
     "metadata": {},
     "output_type": "execute_result"
    }
   ],
   "source": [
    "# Multilevel Inheritance\n",
    "\n",
    "class friend1 :\n",
    "    \n",
    "    def good_friend (self):\n",
    "        \n",
    "        return \"she is my best friend\"\n",
    "    \n",
    "class friend2 :\n",
    "    \n",
    "    def bad_friend (self):\n",
    "        \n",
    "        return \"she is my enemy\"\n",
    "    \n",
    "class friend3 (friend2) :\n",
    "    \n",
    "    pass\n",
    "\n",
    "friend3_obj = friend3 ( )\n",
    "\n",
    "friend3_obj.bad_friend ( )"
   ]
  },
  {
   "cell_type": "code",
   "execution_count": 12,
   "id": "103b68e2-3711-4cbc-9581-822e26bdc626",
   "metadata": {},
   "outputs": [
    {
     "data": {
      "text/plain": [
       "'she is my best friend'"
      ]
     },
     "execution_count": 12,
     "metadata": {},
     "output_type": "execute_result"
    }
   ],
   "source": [
    "class friend3 (friend1) :\n",
    "    \n",
    "    pass\n",
    "\n",
    "friend3_obj = friend3 ( )\n",
    "\n",
    "friend3_obj.good_friend ( )"
   ]
  }
 ],
 "metadata": {
  "kernelspec": {
   "display_name": "Python 3 (ipykernel)",
   "language": "python",
   "name": "python3"
  },
  "language_info": {
   "codemirror_mode": {
    "name": "ipython",
    "version": 3
   },
   "file_extension": ".py",
   "mimetype": "text/x-python",
   "name": "python",
   "nbconvert_exporter": "python",
   "pygments_lexer": "ipython3",
   "version": "3.10.8"
  }
 },
 "nbformat": 4,
 "nbformat_minor": 5
}
