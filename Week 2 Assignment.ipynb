{
 "cells": [
  {
   "cell_type": "code",
   "execution_count": 1,
   "id": "415088b5-99f4-42fc-9b2a-f7be7c2638af",
   "metadata": {},
   "outputs": [],
   "source": [
    "# Que 1 \n",
    "'''Using single and double hashtag symbol\n",
    "Multiline comments using single and double quote mark'''"
   ]
  },
  {
   "cell_type": "code",
   "execution_count": 2,
   "id": "d1f0cfdc-f450-4152-96ff-7d8b3c747f16",
   "metadata": {},
   "outputs": [],
   "source": [
    "# Que 2 - Variable is a symbol when some value assign to it and to store the data. \n",
    "# Using = symbol we can declare and assign values to variables."
   ]
  },
  {
   "cell_type": "code",
   "execution_count": 4,
   "id": "2662cffb-66f5-4e47-a972-aec2c44a6a15",
   "metadata": {},
   "outputs": [],
   "source": [
    "# Que 3 \n",
    "a ='1'"
   ]
  },
  {
   "cell_type": "code",
   "execution_count": 39,
   "id": "d1672391-40c1-4e79-9492-eafc72a02056",
   "metadata": {},
   "outputs": [
    {
     "data": {
      "text/plain": [
       "str"
      ]
     },
     "execution_count": 39,
     "metadata": {},
     "output_type": "execute_result"
    }
   ],
   "source": [
    "type (a)"
   ]
  },
  {
   "cell_type": "code",
   "execution_count": 47,
   "id": "f2b2002b-66b1-4c4d-b033-ee747a930863",
   "metadata": {},
   "outputs": [
    {
     "data": {
      "text/plain": [
       "bool"
      ]
     },
     "execution_count": 47,
     "metadata": {},
     "output_type": "execute_result"
    }
   ],
   "source": [
    "b = bool (a)\n",
    "type (b)"
   ]
  },
  {
   "cell_type": "code",
   "execution_count": 48,
   "id": "11ce590c-c36d-4f94-aa28-2d6f2e2365f5",
   "metadata": {},
   "outputs": [
    {
     "data": {
      "text/plain": [
       "True"
      ]
     },
     "execution_count": 48,
     "metadata": {},
     "output_type": "execute_result"
    }
   ],
   "source": [
    "b"
   ]
  },
  {
   "cell_type": "code",
   "execution_count": null,
   "id": "706093ca-46b1-4314-a9b9-6b0dd32af0a8",
   "metadata": {},
   "outputs": [],
   "source": [
    "#Que 4 Using shift+Enter or Control+Enter."
   ]
  },
  {
   "cell_type": "code",
   "execution_count": 37,
   "id": "e78f0c6b-0d37-438a-914d-d1dda1b69217",
   "metadata": {},
   "outputs": [],
   "source": [
    "#Que 5 -\n",
    "my_list = [1, 2, 3, 4, 5]\n",
    "sub_list = my_list [1:3]"
   ]
  },
  {
   "cell_type": "code",
   "execution_count": 38,
   "id": "1ab02823-501a-4f91-96d9-08fe9ce8db12",
   "metadata": {},
   "outputs": [
    {
     "data": {
      "text/plain": [
       "[2, 3]"
      ]
     },
     "execution_count": 38,
     "metadata": {},
     "output_type": "execute_result"
    }
   ],
   "source": [
    "sub_list"
   ]
  },
  {
   "cell_type": "code",
   "execution_count": 12,
   "id": "12bcd247-c313-4d9f-9e67-a796f78598f5",
   "metadata": {},
   "outputs": [
    {
     "data": {
      "text/plain": [
       "complex"
      ]
     },
     "execution_count": 12,
     "metadata": {},
     "output_type": "execute_result"
    }
   ],
   "source": [
    "#Que 6 - Complex number is a combination of real and imaginary number. It represented using j\n",
    "c = 6+5j\n",
    "type (c)"
   ]
  },
  {
   "cell_type": "code",
   "execution_count": 10,
   "id": "d6764e4d-0c03-4bbc-8e9a-d06c3c44cb1d",
   "metadata": {},
   "outputs": [],
   "source": [
    "#Que 7 \n",
    "Age = 25"
   ]
  },
  {
   "cell_type": "code",
   "execution_count": 11,
   "id": "3fac39c9-45c5-42d1-8965-e5ba6881262d",
   "metadata": {},
   "outputs": [
    {
     "data": {
      "text/plain": [
       "25"
      ]
     },
     "execution_count": 11,
     "metadata": {},
     "output_type": "execute_result"
    }
   ],
   "source": [
    "Age"
   ]
  },
  {
   "cell_type": "code",
   "execution_count": 23,
   "id": "6e817a4d-d544-42f6-a105-ef49649f8a9c",
   "metadata": {},
   "outputs": [
    {
     "data": {
      "text/plain": [
       "float"
      ]
     },
     "execution_count": 23,
     "metadata": {},
     "output_type": "execute_result"
    }
   ],
   "source": [
    "# Que 8\n",
    "price = 9.99\n",
    "type (price)"
   ]
  },
  {
   "cell_type": "code",
   "execution_count": 17,
   "id": "e1dade09-4647-42f2-8624-6e84f701de9b",
   "metadata": {},
   "outputs": [
    {
     "data": {
      "text/plain": [
       "str"
      ]
     },
     "execution_count": 17,
     "metadata": {},
     "output_type": "execute_result"
    }
   ],
   "source": [
    "#Que 9\n",
    "name = \"Minal Madhukar Gurnule\"\n",
    "type (name)"
   ]
  },
  {
   "cell_type": "code",
   "execution_count": 18,
   "id": "4746a8b2-83a2-4f7a-9984-6e5539597494",
   "metadata": {},
   "outputs": [
    {
     "data": {
      "text/plain": [
       "'Minal Madhukar Gurnule'"
      ]
     },
     "execution_count": 18,
     "metadata": {},
     "output_type": "execute_result"
    }
   ],
   "source": [
    "name"
   ]
  },
  {
   "cell_type": "code",
   "execution_count": 45,
   "id": "5846fb4a-5df9-4714-9cca-341cf9a62667",
   "metadata": {},
   "outputs": [],
   "source": [
    "#Que 10\n",
    "string = \"Hello, World!\"\n",
    "substring = ( string [6 : 12] )"
   ]
  },
  {
   "cell_type": "code",
   "execution_count": 46,
   "id": "17d14468-7d7e-4cb3-90a4-3663149df529",
   "metadata": {},
   "outputs": [
    {
     "data": {
      "text/plain": [
       "' World'"
      ]
     },
     "execution_count": 46,
     "metadata": {},
     "output_type": "execute_result"
    }
   ],
   "source": [
    "substring"
   ]
  },
  {
   "cell_type": "code",
   "execution_count": 31,
   "id": "de11f723-b8d0-4c0b-9818-49f0111b66ca",
   "metadata": {},
   "outputs": [
    {
     "data": {
      "text/plain": [
       "bool"
      ]
     },
     "execution_count": 31,
     "metadata": {},
     "output_type": "execute_result"
    }
   ],
   "source": [
    "is_student = False\n",
    "type (is_student)"
   ]
  }
 ],
 "metadata": {
  "kernelspec": {
   "display_name": "Python 3 (ipykernel)",
   "language": "python",
   "name": "python3"
  },
  "language_info": {
   "codemirror_mode": {
    "name": "ipython",
    "version": 3
   },
   "file_extension": ".py",
   "mimetype": "text/x-python",
   "name": "python",
   "nbconvert_exporter": "python",
   "pygments_lexer": "ipython3",
   "version": "3.10.8"
  }
 },
 "nbformat": 4,
 "nbformat_minor": 5
}
