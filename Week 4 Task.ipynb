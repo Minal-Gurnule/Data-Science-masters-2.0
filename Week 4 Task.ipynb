{
 "cells": [
  {
   "cell_type": "code",
   "execution_count": 1,
   "id": "2a6b3382-c4ef-4199-bbcb-0f3ed9d8580b",
   "metadata": {},
   "outputs": [],
   "source": [
    "# Que 1\n",
    "\n",
    "class vehicle :\n",
    "    \n",
    "    def __init__ (self,  name_of_vehicle, max_speed, average_of_vehicle) :\n",
    "        \n",
    "        self.name_of_vehicle = name_of_vehicle\n",
    "        \n",
    "        self.max_speed =  max_speed\n",
    "        \n",
    "        self.average_of_vehicle = average_of_vehicle\n",
    "        \n",
    "    def vehicles_details (self) :\n",
    "        \n",
    "        print (self.name_of_vehicle, self.max_speed, self.average_of_vehicle)\n",
    "        \n",
    "veh = vehicle ( \"totota\" , 150 , 100 )"
   ]
  },
  {
   "cell_type": "code",
   "execution_count": 2,
   "id": "67302510-52be-4116-b8f5-b22b203174b1",
   "metadata": {},
   "outputs": [
    {
     "data": {
      "text/plain": [
       "150"
      ]
     },
     "execution_count": 2,
     "metadata": {},
     "output_type": "execute_result"
    }
   ],
   "source": [
    "veh.max_speed"
   ]
  },
  {
   "cell_type": "code",
   "execution_count": 3,
   "id": "e275b18b-f2aa-4d12-9b4e-02f93851dea3",
   "metadata": {},
   "outputs": [
    {
     "name": "stdout",
     "output_type": "stream",
     "text": [
      "totota 150 100\n"
     ]
    }
   ],
   "source": [
    "veh.vehicles_details ( )"
   ]
  },
  {
   "cell_type": "code",
   "execution_count": 4,
   "id": "c8dd0264-f671-473b-8583-947f2a8d29cd",
   "metadata": {},
   "outputs": [
    {
     "ename": "TypeError",
     "evalue": "metaclass conflict: the metaclass of a derived class must be a (non-strict) subclass of the metaclasses of all its bases",
     "output_type": "error",
     "traceback": [
      "\u001b[0;31m---------------------------------------------------------------------------\u001b[0m",
      "\u001b[0;31mTypeError\u001b[0m                                 Traceback (most recent call last)",
      "Cell \u001b[0;32mIn[4], line 25\u001b[0m\n\u001b[1;32m     21\u001b[0m     \u001b[38;5;28;01mdef\u001b[39;00m \u001b[38;5;21mseating_capacity\u001b[39m (\u001b[38;5;28mself\u001b[39m):\n\u001b[1;32m     23\u001b[0m         \u001b[38;5;28;01mreturn\u001b[39;00m \u001b[38;5;241m20\u001b[39m\n\u001b[0;32m---> 25\u001b[0m \u001b[38;5;28;01mclass\u001b[39;00m \u001b[38;5;21;01mvehicle_car\u001b[39;00m (vehicle, car):\n\u001b[1;32m     26\u001b[0m     \u001b[38;5;28;01mpass\u001b[39;00m\n\u001b[1;32m     28\u001b[0m obj_vehicle_car \u001b[38;5;241m=\u001b[39m vehicle_car ( )\n",
      "\u001b[0;31mTypeError\u001b[0m: metaclass conflict: the metaclass of a derived class must be a (non-strict) subclass of the metaclasses of all its bases"
     ]
    }
   ],
   "source": [
    "# Que 2\n",
    "\n",
    "class vehicle :\n",
    "    \n",
    "    def __init__ (self,  name_of_vehicle, max_speed, average_of_vehicle) :\n",
    "        \n",
    "        self.name_of_vehicle = name_of_vehicle\n",
    "        \n",
    "        self.max_speed =  max_speed\n",
    "        \n",
    "        self.average_of_vehicle = average_of_vehicle\n",
    "        \n",
    "    def vehicles_details (self) :\n",
    "        \n",
    "        print (self.name_of_vehicle, self.max_speed, self.average_of_vehicle)\n",
    "        \n",
    "veh = vehicle ( \"totota\" , 150 , 100 )\n",
    "\n",
    "class car (veh) :\n",
    "    \n",
    "    def seating_capacity (self):\n",
    "        \n",
    "        return 20\n",
    "    \n",
    "class vehicle_car (vehicle, car):\n",
    "    pass\n",
    "\n",
    "obj_vehicle_car = vehicle_car ( )\n",
    "\n",
    "obj_vehicle_car.name_of_vehicle ( )\n",
    "\n",
    "\n",
    "    "
   ]
  },
  {
   "cell_type": "code",
   "execution_count": 18,
   "id": "d829ddb1-165a-4221-91ab-507fab1e7f22",
   "metadata": {},
   "outputs": [
    {
     "name": "stdout",
     "output_type": "stream",
     "text": [
      "hardworking\n",
      "clever\n",
      "naughty\n"
     ]
    }
   ],
   "source": [
    "# Que 3 multiple inheritance - The class originated from more than one class.\n",
    "\n",
    "class student1:\n",
    "    def student1_info(self):\n",
    "        print(\"hardworking\")\n",
    "\n",
    "class student2:\n",
    "    def student2_info(self):\n",
    "        print(\"clever\")\n",
    "        \n",
    "class student3:\n",
    "    def student3_info(self):\n",
    "        print(\"naughty\")\n",
    "\n",
    "class student(student1, student2, student3):\n",
    "    pass\n",
    "\n",
    "# create an object of Bat class\n",
    "a = student()\n",
    "\n",
    "a.student1_info()\n",
    "a.student2_info()\n",
    "a.student3_info()"
   ]
  },
  {
   "cell_type": "code",
   "execution_count": 17,
   "id": "61cda798-6ccf-4d92-bec0-9e2a2f06d476",
   "metadata": {},
   "outputs": [
    {
     "name": "stdout",
     "output_type": "stream",
     "text": [
      "17\n"
     ]
    }
   ],
   "source": [
    "# Que 4 \n",
    "# Getter - This allows to access the atribute in a class.\n",
    "# Setter - This allows to modifiy or mutate the attribute in a class.\n",
    "\n",
    "class mohini:\n",
    "     def __init__(self):\n",
    "          self._age = a\n",
    "       \n",
    "     # using property decorator\n",
    "     # getter function\n",
    "     @property\n",
    "     def age(self):\n",
    "        return self._age\n",
    "       \n",
    "     # setter function\n",
    "     @age.setter\n",
    "     def age(self, a):\n",
    "         if(a < 18):\n",
    "                \n",
    "                self._age = a\n",
    "  \n",
    "mohini.age = 17\n",
    "  \n",
    "print(mohini.age)\n"
   ]
  },
  {
   "cell_type": "code",
   "execution_count": 16,
   "id": "545960a6-d2db-4cce-8d68-913bc0112d1b",
   "metadata": {},
   "outputs": [
    {
     "name": "stdout",
     "output_type": "stream",
     "text": [
      "defining Parent\n",
      "defining parent and child\n"
     ]
    }
   ],
   "source": [
    "\"\"\" Que 5\n",
    "Method overriding is a feature of object-oriented programming languages where the subclass can provide the program with \n",
    "specific characteristics or a specific implementation process of data provided that are already defined in the parent \n",
    "class or superclass.\"\"\"\n",
    "\n",
    "# parent class\n",
    "class Parent():\n",
    "\t\n",
    "\tdef __init__(self):\n",
    "\t\tself.value = \"defining Parent\"\n",
    "\t\t\n",
    "\n",
    "\tdef show(self):\n",
    "\t\tprint(self.value)\n",
    "\t\t\n",
    "# child class\n",
    "class child (Parent):\n",
    "\t\n",
    "\t# Constructor\n",
    "\tdef __init__(self):\n",
    "\t\tself.value = \"defining parent and child\"\n",
    "\t\t\n",
    "\tdef show(self):\n",
    "\t\tprint(self.value)\n",
    "\t\n",
    "    \n",
    "p1 = Parent ( )\n",
    "c1 = child ( )\n",
    "\n",
    "p1.show()\n",
    "c1.show()\n"
   ]
  },
  {
   "cell_type": "code",
   "execution_count": 11,
   "id": "08822cf9-cb2f-4107-9bfa-5d56ef9318d1",
   "metadata": {},
   "outputs": [],
   "source": [
    "# Que 2\n",
    "\n",
    "class vehicle :\n",
    "    \n",
    "    def __init__ (self,  name_of_vehicle, max_speed, average_of_vehicle) :\n",
    "        \n",
    "        self.name_of_vehicle = name_of_vehicle\n",
    "        \n",
    "        self.max_speed =  max_speed\n",
    "        \n",
    "        self.average_of_vehicle = average_of_vehicle\n",
    "        \n",
    "    def vehicles_details (self) :\n",
    "        \n",
    "        print (self.name_of_vehicle, self.max_speed, self.average_of_vehicle)\n",
    "        \n",
    "        return ( \"totota\" , 150 , 100 )\n",
    "\n",
    "class car (vehicle):\n",
    "    \n",
    "    def seating_capacity (self) : \n",
    "        print(20)\n",
    "        \n"
   ]
  },
  {
   "cell_type": "code",
   "execution_count": 12,
   "id": "68793e3e-be8d-4659-9b20-66721bec4400",
   "metadata": {},
   "outputs": [
    {
     "ename": "TypeError",
     "evalue": "vehicle.__init__() missing 3 required positional arguments: 'name_of_vehicle', 'max_speed', and 'average_of_vehicle'",
     "output_type": "error",
     "traceback": [
      "\u001b[0;31m---------------------------------------------------------------------------\u001b[0m",
      "\u001b[0;31mTypeError\u001b[0m                                 Traceback (most recent call last)",
      "Cell \u001b[0;32mIn[12], line 1\u001b[0m\n\u001b[0;32m----> 1\u001b[0m obj_car \u001b[38;5;241m=\u001b[39m \u001b[43mcar\u001b[49m\u001b[43m \u001b[49m\u001b[43m(\u001b[49m\u001b[43m \u001b[49m\u001b[43m)\u001b[49m\n\u001b[1;32m      2\u001b[0m obj_car\u001b[38;5;241m.\u001b[39mseating_capacity ( )\n",
      "\u001b[0;31mTypeError\u001b[0m: vehicle.__init__() missing 3 required positional arguments: 'name_of_vehicle', 'max_speed', and 'average_of_vehicle'"
     ]
    }
   ],
   "source": [
    "obj_car = car ( )\n",
    "obj_car.seating_capacity ( )"
   ]
  },
  {
   "cell_type": "code",
   "execution_count": 9,
   "id": "b2996db6-4400-4d12-9328-519b1b8ed07b",
   "metadata": {},
   "outputs": [
    {
     "ename": "TypeError",
     "evalue": "vehicle.__init__() missing 3 required positional arguments: 'name_of_vehicle', 'max_speed', and 'average_of_vehicle'",
     "output_type": "error",
     "traceback": [
      "\u001b[0;31m---------------------------------------------------------------------------\u001b[0m",
      "\u001b[0;31mTypeError\u001b[0m                                 Traceback (most recent call last)",
      "Cell \u001b[0;32mIn[9], line 1\u001b[0m\n\u001b[0;32m----> 1\u001b[0m obj_car \u001b[38;5;241m=\u001b[39m \u001b[43mcar\u001b[49m\u001b[43m \u001b[49m\u001b[43m(\u001b[49m\u001b[43m \u001b[49m\u001b[43m)\u001b[49m\n\u001b[1;32m      2\u001b[0m obj_car\u001b[38;5;241m.\u001b[39mmax_speed ( )\n",
      "\u001b[0;31mTypeError\u001b[0m: vehicle.__init__() missing 3 required positional arguments: 'name_of_vehicle', 'max_speed', and 'average_of_vehicle'"
     ]
    }
   ],
   "source": [
    "obj_car = car ( )\n",
    "obj_car.max_speed ( )"
   ]
  },
  {
   "cell_type": "code",
   "execution_count": 14,
   "id": "de655a13-f312-4c39-907b-f99c4fc8d862",
   "metadata": {},
   "outputs": [
    {
     "ename": "NameError",
     "evalue": "name 'vehicles_details' is not defined",
     "output_type": "error",
     "traceback": [
      "\u001b[0;31m---------------------------------------------------------------------------\u001b[0m",
      "\u001b[0;31mNameError\u001b[0m                                 Traceback (most recent call last)",
      "Cell \u001b[0;32mIn[14], line 1\u001b[0m\n\u001b[0;32m----> 1\u001b[0m \u001b[43mvehicles_details\u001b[49m\u001b[38;5;241m.\u001b[39mmax_speed ()\n",
      "\u001b[0;31mNameError\u001b[0m: name 'vehicles_details' is not defined"
     ]
    }
   ],
   "source": [
    "vehicles_details.max_speed ()"
   ]
  },
  {
   "cell_type": "code",
   "execution_count": null,
   "id": "2742455b-49dc-4fd7-b7b2-deb753b5e5a1",
   "metadata": {},
   "outputs": [],
   "source": []
  },
  {
   "cell_type": "code",
   "execution_count": null,
   "id": "14d06efa-8eda-41ec-930d-db512c4f86e2",
   "metadata": {},
   "outputs": [],
   "source": []
  }
 ],
 "metadata": {
  "kernelspec": {
   "display_name": "Python 3 (ipykernel)",
   "language": "python",
   "name": "python3"
  },
  "language_info": {
   "codemirror_mode": {
    "name": "ipython",
    "version": 3
   },
   "file_extension": ".py",
   "mimetype": "text/x-python",
   "name": "python",
   "nbconvert_exporter": "python",
   "pygments_lexer": "ipython3",
   "version": "3.10.8"
  }
 },
 "nbformat": 4,
 "nbformat_minor": 5
}
